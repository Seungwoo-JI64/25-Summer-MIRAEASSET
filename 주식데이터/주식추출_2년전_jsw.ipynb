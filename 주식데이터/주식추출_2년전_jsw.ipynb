{
 "cells": [
  {
   "cell_type": "markdown",
   "id": "1e27cbb3",
   "metadata": {},
   "source": [
    "\"주식크롤링_yhj.ipynb\"를 기반으로 supabase 데이터베이스에 업로드를 진행"
   ]
  },
  {
   "cell_type": "markdown",
   "id": "6c5fa3e6",
   "metadata": {},
   "source": [
    "# 한국 기업 시총 100"
   ]
  },
  {
   "cell_type": "code",
   "execution_count": 1,
   "id": "aaa02e72",
   "metadata": {},
   "outputs": [],
   "source": [
    "Name_KR=['Samsung', 'SK Hynix', 'Samsung Biologics', 'LG Energy Solution', 'Hyundai', 'KB Financial Group', 'Celltrion', 'Doosan Enerbility', 'Kia', 'Hanwha Aerospace', 'Naver', 'HD Hyundai Heavy Industries', 'Shinhan Financial Group', 'Hyundai Mobis', 'Kakao', 'HMM', 'Hana Financial Group', 'POSCO', 'Korea Electric Power', 'Samsung Life Insurance', 'Hanwha Ocean (DSME)', 'HD Korea Shipbuilding & Offshore Engineering', 'SK Square', 'Meritz Financial Group', 'Alteogen', 'Hyundai Rotem Company', 'LG Chem', 'SK Innovation', 'Woori Financial Group', 'Krafton', 'HD Hyundai Electric', 'Industrial Bank of Korea (IBK)', 'Korea Zinc', 'Samsung SDI', 'KakaoBank', 'KT Corporation', 'KT&G (Korea Tobacco)', 'Samsung Heavy Industries', 'LG Electronics', 'LG Corp', 'SK Telecom', 'HYBE', 'SK Group', 'LIG Nex1', 'POSCO Chemical', 'Kakao Pay', 'Samsung Electro-Mechanics', 'Hyundai Glovis', 'Ecopro BM', 'Hanwha Systems', 'Samyang Foods', 'HANMI Semiconductor', 'Doosan', 'Korean Air Lines', 'Posco International', 'HD Hyundai Marine Solution', 'Korea Aerospace Industries', 'Amorepacific', 'Yuhan', 'S-OIL', 'Coway', 'Ecopro', 'Hanwha Solutions', 'Doosan Bobcat', 'Hankook Tire', 'Netmarble', 'LG Household & Health Care', 'LG Display', 'LS Corp.', 'ORION', 'Korea Gas', 'CJ Group', 'NCsoft', 'Kangwon Land', 'LEENO Industrial', 'F&F Co', 'SM Entertainment', 'Kumho Petrochemical', 'Hanmi Pharmaceutical', 'LOTTE Chemical', 'SHIFT UP', 'Pearl Abyss', 'JYP Entertainment', 'KCC Corp', 'Nongshim', 'Fila', 'BGF Retail', 'Pan Ocean', 'LOTTE Corporation', 'Asiana Airlines', 'Hansol Chemical', 'Shinsegae', 'YG Entertainment', 'Doosan Fuel Cell', 'Kakao Games', 'HiteJinro', 'Kumho Tire', 'Ottogi', 'SD BioSensor', 'DoubleUGames']\n",
    "Ticker_KR=['005930.KS', '000660.KS', '207940.KS', '373220.KS', 'HYMTF', 'KB', '068270.KS', '034020.KS', '000270.KS', '012450.KS', '035420.KS', '329180.KS', 'SHG', '012330.KS', '035720.KS', '011200.KS', '086790.KS', 'PKX', 'KEP', '032830.KS', '042660.KS', '009540.KS', '402340.KS', '138040.KS', '196170.KQ', '064350.KS', '051910.KS', '096775.KS', 'WF', '259960.KS', '267260.KS', '024110.KS', '010130.KS', '006405.KS', '323410.KS', 'KT', '033780.KS', '010140.KS', '066570.KS', '003550.KS', 'SKM', '352820.KS', '034730.KS', '079550.KS', '003670.KS', '377300.KS', '009155.KS', '086280.KS', '247540.KQ', '272210.KS', '003230.KS', '042700.KS', '000150.KS', '003495.KS', '047050.KS', '443060.KS', '047810.KS', '090430.KS', '000100.KS', '010950.KS', '021240.KS', '086520.KQ', '009830.KS', '241560.KS', '161390.KS', '251270.KS', '051905.KS', 'LPL', '006260.KS', '271560.KS', '036460.KS', '001040.KS', '036570.KS', '035250.KS', '058470.KQ', '383220.KS', '041510.KQ', '011780.KS', '008930.KS', '011170.KS', '462870.KS', '263750.KQ', '035900.KQ', '002380.KS', '004370.KS', '081660.KS', '282330.KS', '028670.KS', '004990.KS', '020560.KS', '014680.KS', '004170.KS', '122870.KQ', '336260.KS', '293490.KQ', '000080.KS', '073240.KS', '007310.KS', '137310.KS', '192080.KS']"
   ]
  },
  {
   "cell_type": "markdown",
   "id": "ab410554",
   "metadata": {},
   "source": [
    "# 미국 기업 시총 100"
   ]
  },
  {
   "cell_type": "code",
   "execution_count": 2,
   "id": "60fad267",
   "metadata": {},
   "outputs": [],
   "source": [
    "Name_US=['NVIDIA', 'Microsoft', 'Apple', 'Amazon', 'Alphabet (Google)', 'Meta Platforms (Facebook)', 'Broadcom', 'Berkshire Hathaway', 'Tesla', 'JPMorgan Chase', 'Walmart', 'Visa', 'Eli Lilly', 'Oracle', 'Netflix', 'Mastercard', 'Exxon Mobil', 'Costco', 'Procter & Gamble', 'Johnson & Johnson', 'Home Depot', 'Bank of America', 'AbbVie', 'Palantir', 'Coca-Cola', 'UnitedHealth', 'Philip Morris International', 'Cisco', 'T-Mobile US', 'Wells Fargo', 'IBM', 'General Electric', 'Salesforce', 'Chevron', 'Abbott Laboratories', 'Morgan Stanley', 'American Express', 'AMD', 'Walt Disney', 'Goldman Sachs', 'Intuit', 'ServiceNow', 'McDonald', 'AT&T', 'Merck', 'Texas Instruments', 'Uber', 'Intuitive Surgical', 'RTX', 'Blackstone Group', 'Caterpillar', 'Booking Holdings (Booking.com)', 'Pepsico', 'Verizon', 'QUALCOMM', 'BlackRock', 'Charles Schwab', 'Citigroup', 'Boeing', 'S&P Global', 'Thermo Fisher Scientific', 'Adobe', 'Amgen', 'Honeywell', 'Boston Scientific', 'Progressive', 'Applied Materials', 'Nextera Energy', 'Stryker Corporation', 'Danaher', 'Pfizer', 'Capital One', 'Union Pacific Corporation', 'GE Vernova', 'Deere & Company (John Deere)', 'TJX Companies', 'Gilead Sciences', 'Micron Technology', 'Palo Alto Networks', 'Comcast', 'Arista Networks', 'KKR & Co.', 'CrowdStrike', \"Lowe's Companies\", 'Lam Research', 'Automatic Data Processing', 'KLA', 'Analog Devices', 'Amphenol', 'ConocoPhillips', 'Vertex Pharmaceuticals', 'AppLovin', 'Strategy \\n (MicroStrategy)', 'Nike', 'Lockheed Martin', 'Starbucks', 'Marsh & McLennan Companies', 'Intercontinental Exchange', 'American Tower', 'DoorDash']\n",
    "Ticker_US=['NVDA', 'MSFT', 'AAPL', 'AMZN', 'GOOG', 'META', 'AVGO', 'BRK-B', 'TSLA', 'JPM', 'WMT', 'V', 'LLY', 'ORCL', 'NFLX', 'MA', 'XOM', 'COST', 'PG', 'JNJ', 'HD', 'BAC', 'ABBV', 'PLTR', 'KO', 'UNH', 'PM', 'CSCO', 'TMUS', 'WFC', 'IBM', 'GE', 'CRM', 'CVX', 'ABT', 'MS', 'AXP', 'AMD', 'DIS', 'GS', 'INTU', 'NOW', 'MCD', 'T', 'MRK', 'TXN', 'UBER', 'ISRG', 'RTX', 'BX', 'CAT', 'BKNG', 'PEP', 'VZ', 'QCOM', 'BLK', 'SCHW', 'C', 'BA', 'SPGI', 'TMO', 'ADBE', 'AMGN', 'HON', 'BSX', 'PGR', 'AMAT', 'NEE', 'SYK', 'DHR', 'PFE', 'COF', 'UNP', 'GEV', 'DE', 'TJX', 'GILD', 'MU', 'PANW', 'CMCSA', 'ANET', 'KKR', 'CRWD', 'LOW', 'LRCX', 'ADP', 'KLAC', 'ADI', 'APH', 'COP', 'VRTX', 'APP', 'MSTR', 'NKE', 'LMT', 'SBUX', 'MMC', 'ICE', 'AMT', 'DASH']"
   ]
  },
  {
   "cell_type": "markdown",
   "id": "e1b4d78e",
   "metadata": {},
   "source": [
    "# 야후 API"
   ]
  },
  {
   "cell_type": "code",
   "execution_count": 3,
   "id": "dae7848c",
   "metadata": {},
   "outputs": [],
   "source": [
    "import yfinance as yf\n",
    "import pandas as pd"
   ]
  },
  {
   "cell_type": "markdown",
   "id": "b23da33a",
   "metadata": {},
   "source": [
    "## 한국 기업 주식 2년치"
   ]
  },
  {
   "cell_type": "code",
   "execution_count": null,
   "id": "e66905f9",
   "metadata": {},
   "outputs": [],
   "source": [
    "korea_history = []\n",
    "for i in range(len(Name_KR)):\n",
    "    name = Name_KR[i]\n",
    "    Ticker = Ticker_KR[i]\n",
    "    ticker = yf.Ticker(Ticker)\n",
    "    hist = ticker.history(period=\"2y\") #현재 작업시간 25년 7월 31일 오후 6시 -> 23년 7월 31일 자료부터 가지고온다\n",
    "    hist['name'] = name\n",
    "    hist['Ticker'] = Ticker\n",
    "    korea_history.append(hist)\n",
    "\n",
    "#결과 데이터프레임 생성\n",
    "korea_df = pd.DataFrame()\n",
    "korea_df = pd.concat(korea_history)"
   ]
  },
  {
   "cell_type": "code",
   "execution_count": 16,
   "id": "4d4d4b5b",
   "metadata": {},
   "outputs": [],
   "source": [
    "#전처리\n",
    "korea_df_formatted = korea_df.reset_index()\n",
    "korea_df_formatted = korea_df_formatted[['Date', 'Ticker', 'name', 'Close', 'Volume']]\n",
    "##컬럼명 변경\n",
    "korea_df_formatted = korea_df_formatted.rename(columns={\n",
    "    'Date': 'time',\n",
    "    'Ticker': 'ticker',\n",
    "    'name': 'company_name',\n",
    "    'Close': 'close_price',\n",
    "    'Volume': 'volume'\n",
    "})\n",
    "##결측치 제거\n",
    "korea_df_formatted.dropna(inplace=True)"
   ]
  },
  {
   "cell_type": "code",
   "execution_count": 17,
   "id": "ca5b16d7",
   "metadata": {},
   "outputs": [
    {
     "data": {
      "text/html": [
       "<div>\n",
       "<style scoped>\n",
       "    .dataframe tbody tr th:only-of-type {\n",
       "        vertical-align: middle;\n",
       "    }\n",
       "\n",
       "    .dataframe tbody tr th {\n",
       "        vertical-align: top;\n",
       "    }\n",
       "\n",
       "    .dataframe thead th {\n",
       "        text-align: right;\n",
       "    }\n",
       "</style>\n",
       "<table border=\"1\" class=\"dataframe\">\n",
       "  <thead>\n",
       "    <tr style=\"text-align: right;\">\n",
       "      <th></th>\n",
       "      <th>time</th>\n",
       "      <th>ticker</th>\n",
       "      <th>company_name</th>\n",
       "      <th>close_price</th>\n",
       "      <th>volume</th>\n",
       "    </tr>\n",
       "  </thead>\n",
       "  <tbody>\n",
       "    <tr>\n",
       "      <th>0</th>\n",
       "      <td>2023-07-31 00:00:00+09:00</td>\n",
       "      <td>005930.KS</td>\n",
       "      <td>Samsung</td>\n",
       "      <td>67248.578125</td>\n",
       "      <td>13035420</td>\n",
       "    </tr>\n",
       "    <tr>\n",
       "      <th>1</th>\n",
       "      <td>2023-08-01 00:00:00+09:00</td>\n",
       "      <td>005930.KS</td>\n",
       "      <td>Samsung</td>\n",
       "      <td>68501.078125</td>\n",
       "      <td>12299254</td>\n",
       "    </tr>\n",
       "    <tr>\n",
       "      <th>2</th>\n",
       "      <td>2023-08-02 00:00:00+09:00</td>\n",
       "      <td>005930.KS</td>\n",
       "      <td>Samsung</td>\n",
       "      <td>67344.945312</td>\n",
       "      <td>13835020</td>\n",
       "    </tr>\n",
       "    <tr>\n",
       "      <th>3</th>\n",
       "      <td>2023-08-03 00:00:00+09:00</td>\n",
       "      <td>005930.KS</td>\n",
       "      <td>Samsung</td>\n",
       "      <td>66285.132812</td>\n",
       "      <td>20087090</td>\n",
       "    </tr>\n",
       "    <tr>\n",
       "      <th>4</th>\n",
       "      <td>2023-08-04 00:00:00+09:00</td>\n",
       "      <td>005930.KS</td>\n",
       "      <td>Samsung</td>\n",
       "      <td>65803.414062</td>\n",
       "      <td>12360193</td>\n",
       "    </tr>\n",
       "    <tr>\n",
       "      <th>...</th>\n",
       "      <td>...</td>\n",
       "      <td>...</td>\n",
       "      <td>...</td>\n",
       "      <td>...</td>\n",
       "      <td>...</td>\n",
       "    </tr>\n",
       "    <tr>\n",
       "      <th>48392</th>\n",
       "      <td>2025-07-25 00:00:00+09:00</td>\n",
       "      <td>192080.KS</td>\n",
       "      <td>DoubleUGames</td>\n",
       "      <td>56200.000000</td>\n",
       "      <td>38195</td>\n",
       "    </tr>\n",
       "    <tr>\n",
       "      <th>48393</th>\n",
       "      <td>2025-07-28 00:00:00+09:00</td>\n",
       "      <td>192080.KS</td>\n",
       "      <td>DoubleUGames</td>\n",
       "      <td>55700.000000</td>\n",
       "      <td>54024</td>\n",
       "    </tr>\n",
       "    <tr>\n",
       "      <th>48394</th>\n",
       "      <td>2025-07-29 00:00:00+09:00</td>\n",
       "      <td>192080.KS</td>\n",
       "      <td>DoubleUGames</td>\n",
       "      <td>56200.000000</td>\n",
       "      <td>60183</td>\n",
       "    </tr>\n",
       "    <tr>\n",
       "      <th>48395</th>\n",
       "      <td>2025-07-30 00:00:00+09:00</td>\n",
       "      <td>192080.KS</td>\n",
       "      <td>DoubleUGames</td>\n",
       "      <td>56500.000000</td>\n",
       "      <td>41870</td>\n",
       "    </tr>\n",
       "    <tr>\n",
       "      <th>48396</th>\n",
       "      <td>2025-07-31 00:00:00+09:00</td>\n",
       "      <td>192080.KS</td>\n",
       "      <td>DoubleUGames</td>\n",
       "      <td>56600.000000</td>\n",
       "      <td>22810</td>\n",
       "    </tr>\n",
       "  </tbody>\n",
       "</table>\n",
       "<p>48395 rows × 5 columns</p>\n",
       "</div>"
      ],
      "text/plain": [
       "                            time     ticker  company_name   close_price  \\\n",
       "0      2023-07-31 00:00:00+09:00  005930.KS       Samsung  67248.578125   \n",
       "1      2023-08-01 00:00:00+09:00  005930.KS       Samsung  68501.078125   \n",
       "2      2023-08-02 00:00:00+09:00  005930.KS       Samsung  67344.945312   \n",
       "3      2023-08-03 00:00:00+09:00  005930.KS       Samsung  66285.132812   \n",
       "4      2023-08-04 00:00:00+09:00  005930.KS       Samsung  65803.414062   \n",
       "...                          ...        ...           ...           ...   \n",
       "48392  2025-07-25 00:00:00+09:00  192080.KS  DoubleUGames  56200.000000   \n",
       "48393  2025-07-28 00:00:00+09:00  192080.KS  DoubleUGames  55700.000000   \n",
       "48394  2025-07-29 00:00:00+09:00  192080.KS  DoubleUGames  56200.000000   \n",
       "48395  2025-07-30 00:00:00+09:00  192080.KS  DoubleUGames  56500.000000   \n",
       "48396  2025-07-31 00:00:00+09:00  192080.KS  DoubleUGames  56600.000000   \n",
       "\n",
       "         volume  \n",
       "0      13035420  \n",
       "1      12299254  \n",
       "2      13835020  \n",
       "3      20087090  \n",
       "4      12360193  \n",
       "...         ...  \n",
       "48392     38195  \n",
       "48393     54024  \n",
       "48394     60183  \n",
       "48395     41870  \n",
       "48396     22810  \n",
       "\n",
       "[48395 rows x 5 columns]"
      ]
     },
     "execution_count": 17,
     "metadata": {},
     "output_type": "execute_result"
    }
   ],
   "source": [
    "korea_df_formatted"
   ]
  },
  {
   "cell_type": "markdown",
   "id": "7973f888",
   "metadata": {},
   "source": [
    "### 업로드"
   ]
  },
  {
   "cell_type": "code",
   "execution_count": null,
   "id": "19038a2c",
   "metadata": {},
   "outputs": [],
   "source": [
    "from supabase import create_client, Client\n",
    "import os"
   ]
  },
  {
   "cell_type": "code",
   "execution_count": null,
   "id": "3fd0711b",
   "metadata": {},
   "outputs": [
    {
     "name": "stdout",
     "output_type": "stream",
     "text": [
      "✅ 성공적으로 업로드되었습니다. 총 48395개의 행이 삽입되었습니다.\n"
     ]
    }
   ],
   "source": [
    "# 환경변수 설정\n",
    "supabase_url = os.environ.get(\"SUPABASE_URL\")\n",
    "supabase_key = os.environ.get(\"SUPABASE_KEY\")\n",
    "supabase: Client = create_client(supabase_url, supabase_key)\n",
    "\n",
    "#업로드용 데이터 변환\n",
    "data_to_upload_kr = korea_df_formatted.to_dict('records')\n",
    "#시간 형식 변경\n",
    "for record in data_to_upload_kr:\n",
    "    record['time'] = record['time'].isoformat()\n",
    "\n",
    "# 데이터 삽입\n",
    "try:\n",
    "    data, count = supabase.table('korean_stocks').insert(data_to_upload_kr).execute()\n",
    "    print(f\"성공적으로 업로드되었습니다. 총 {len(data[1])}개의 행이 삽입되었습니다.\")\n",
    "except Exception as e:\n",
    "    print(f\"업로드 중 오류가 발생했습니다: {e}\")"
   ]
  },
  {
   "cell_type": "markdown",
   "id": "8ea5900c",
   "metadata": {},
   "source": [
    "## 미국 기업 주식 2년치"
   ]
  },
  {
   "cell_type": "code",
   "execution_count": 21,
   "id": "fc112764",
   "metadata": {},
   "outputs": [],
   "source": [
    "#API\n",
    "us_history = []\n",
    "for i in range(len(Name_US)):\n",
    "    name = Name_US[i]\n",
    "    Ticker = Ticker_US[i]\n",
    "    ticker = yf.Ticker(Ticker)\n",
    "    hist = ticker.history(period=\"2y\")\n",
    "    hist['name'] = name\n",
    "    hist['Ticker'] = Ticker\n",
    "    us_history.append(hist)\n",
    "#결과 데이터프레임 생성\n",
    "us_df = pd.DataFrame()\n",
    "us_df = pd.concat(us_history)"
   ]
  },
  {
   "cell_type": "code",
   "execution_count": 23,
   "id": "00a25565",
   "metadata": {},
   "outputs": [],
   "source": [
    "#전처리\n",
    "us_df_formatted = us_df.reset_index()\n",
    "us_df_formatted = us_df_formatted[['Date', 'Ticker', 'name', 'Close', 'Volume']]\n",
    "##컬럼명 변경\n",
    "us_df_formatted = us_df_formatted.rename(columns={\n",
    "    'Date': 'time',\n",
    "    'Ticker': 'ticker',\n",
    "    'name': 'company_name',\n",
    "    'Close': 'close_price',\n",
    "    'Volume': 'volume'\n",
    "})\n",
    "##결측치제거\n",
    "us_df_formatted.dropna(inplace=True)"
   ]
  },
  {
   "cell_type": "code",
   "execution_count": null,
   "id": "24090d1c",
   "metadata": {},
   "outputs": [
    {
     "name": "stdout",
     "output_type": "stream",
     "text": [
      "✅ 성공적으로 업로드되었습니다. 총 50034개의 행이 삽입되었습니다.\n"
     ]
    }
   ],
   "source": [
    "#업로드용 데이터 변환\n",
    "data_to_upload_us = us_df_formatted.to_dict('records')\n",
    "#시간 형식 변경\n",
    "for record in data_to_upload_us:\n",
    "    record['time'] = record['time'].isoformat()\n",
    "\n",
    "# 데이터 삽입\n",
    "try:\n",
    "    data, count = supabase.table('us_stocks').insert(data_to_upload_us).execute()\n",
    "    print(f\"성공적으로 업로드되었습니다. 총 {len(data[1])}개의 행이 삽입되었습니다.\")\n",
    "except Exception as e:\n",
    "    print(f\"업로드 중 오류가 발생했습니다: {e}\")"
   ]
  }
 ],
 "metadata": {
  "kernelspec": {
   "display_name": "base",
   "language": "python",
   "name": "python3"
  },
  "language_info": {
   "codemirror_mode": {
    "name": "ipython",
    "version": 3
   },
   "file_extension": ".py",
   "mimetype": "text/x-python",
   "name": "python",
   "nbconvert_exporter": "python",
   "pygments_lexer": "ipython3",
   "version": "3.12.7"
  }
 },
 "nbformat": 4,
 "nbformat_minor": 5
}
