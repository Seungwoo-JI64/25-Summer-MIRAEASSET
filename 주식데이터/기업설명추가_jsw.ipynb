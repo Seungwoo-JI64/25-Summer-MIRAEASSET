{
 "cells": [
  {
   "cell_type": "markdown",
   "id": "6af7f1ff",
   "metadata": {},
   "source": [
    "야후 API에서 제공하는 기업 설명을 따로 supabase의 저장소에 추가"
   ]
  },
  {
   "cell_type": "code",
   "execution_count": 14,
   "id": "a4ca995b",
   "metadata": {},
   "outputs": [],
   "source": [
    "#라이브러리\n",
    "##기본 작업\n",
    "import os\n",
    "import pandas as pd\n",
    "import numpy as np\n",
    "import time\n",
    "import json\n",
    "from datetime import datetime, timedelta\n",
    "##뉴스스크랩\n",
    "import re\n",
    "import requests\n",
    "from selenium import webdriver\n",
    "from selenium.webdriver.chrome.service import Service\n",
    "from webdriver_manager.chrome import ChromeDriverManager\n",
    "from bs4 import BeautifulSoup\n",
    "from dateutil.parser import parse\n",
    "from selenium.webdriver.support.ui import WebDriverWait\n",
    "from selenium.webdriver.support import expected_conditions as EC\n",
    "from selenium.webdriver.common.by import By\n",
    "from selenium.common.exceptions import TimeoutException\n",
    "## API 구동\n",
    "import http.client\n",
    "import uuid\n",
    "from supabase import create_client, Client\n",
    "from google import genai\n",
    "from google.genai import types"
   ]
  },
  {
   "cell_type": "markdown",
   "id": "072e03d1",
   "metadata": {},
   "source": [
    "# supabase 연결"
   ]
  },
  {
   "cell_type": "code",
   "execution_count": null,
   "id": "63e355ed",
   "metadata": {},
   "outputs": [],
   "source": [
    "import os\n",
    "import pandas as pd\n",
    "from dotenv import load_dotenv\n",
    "from supabase import create_client, Client\n",
    "# 환경 변수 사용\n",
    "# 상위 폴더의 .env 파일 경로를 지정하여 로드\n",
    "# 그러나 보안을 위해 업로드 하지 않음\n",
    "load_dotenv(dotenv_path='../.env')\n",
    "supabase_url = os.environ.get(\"SUPABASE_URL\")\n",
    "supabase_key = os.environ.get(\"SUPABASE_KEY\")\n",
    "supabase: Client = create_client(supabase_url, supabase_key)"
   ]
  },
  {
   "cell_type": "markdown",
   "id": "438694d3",
   "metadata": {},
   "source": [
    "# 야후 API"
   ]
  },
  {
   "cell_type": "code",
   "execution_count": 7,
   "id": "7aeec1fd",
   "metadata": {},
   "outputs": [],
   "source": [
    "import yfinance as yf\n",
    "\n",
    "# 한국 주식 목록\n",
    "Name_KR=['Samsung', 'SK Hynix', 'Samsung Biologics', 'LG Energy Solution', 'Hyundai', 'KB Financial Group', 'Celltrion', 'Doosan Enerbility', 'Kia', 'Hanwha Aerospace', 'Naver', 'HD Hyundai Heavy Industries', 'Shinhan Financial Group', 'Hyundai Mobis', 'Kakao', 'HMM', 'Hana Financial Group', 'POSCO', 'Korea Electric Power', 'Samsung Life Insurance', 'Hanwha Ocean (DSME)', 'HD Korea Shipbuilding & Offshore Engineering', 'SK Square', 'Meritz Financial Group', 'Alteogen', 'Hyundai Rotem Company', 'LG Chem', 'SK Innovation', 'Woori Financial Group', 'Krafton', 'HD Hyundai Electric', 'Industrial Bank of Korea (IBK)', 'Korea Zinc', 'Samsung SDI', 'KakaoBank', 'KT Corporation', 'KT&G (Korea Tobacco)', 'Samsung Heavy Industries', 'LG Electronics', 'LG Corp', 'SK Telecom', 'HYBE', 'SK Group', 'LIG Nex1', 'POSCO Chemical', 'Kakao Pay', 'Samsung Electro-Mechanics', 'Hyundai Glovis', 'Ecopro BM', 'Hanwha Systems', 'Samyang Foods', 'HANMI Semiconductor', 'Doosan', 'Korean Air Lines', 'Posco International', 'HD Hyundai Marine Solution', 'Korea Aerospace Industries', 'Amorepacific', 'Yuhan', 'S-OIL', 'Coway', 'Ecopro', 'Hanwha Solutions', 'Doosan Bobcat', 'Hankook Tire', 'Netmarble', 'LG Household & Health Care', 'LG Display', 'LS Corp.', 'ORION', 'Korea Gas', 'CJ Group', 'NCsoft', 'Kangwon Land', 'LEENO Industrial', 'F&F Co', 'SM Entertainment', 'Kumho Petrochemical', 'Hanmi Pharmaceutical', 'LOTTE Chemical', 'SHIFT UP', 'Pearl Abyss', 'JYP Entertainment', 'KCC Corp', 'Nongshim', 'Fila', 'BGF Retail', 'Pan Ocean', 'LOTTE Corporation', 'Asiana Airlines', 'Hansol Chemical', 'Shinsegae', 'YG Entertainment', 'Doosan Fuel Cell', 'Kakao Games', 'HiteJinro', 'Kumho Tire', 'Ottogi', 'SD BioSensor', 'DoubleUGames']\n",
    "Ticker_KR=['005930.KS', '000660.KS', '207940.KS', '373220.KS', 'HYMTF', 'KB', '068270.KS', '034020.KS', '000270.KS', '012450.KS', '035420.KS', '329180.KS', 'SHG', '012330.KS', '035720.KS', '011200.KS', '086790.KS', 'PKX', 'KEP', '032830.KS', '042660.KS', '009540.KS', '402340.KS', '138040.KS', '196170.KQ', '064350.KS', '051910.KS', '096775.KS', 'WF', '259960.KS', '267260.KS', '024110.KS', '010130.KS', '006405.KS', '323410.KS', 'KT', '033780.KS', '010140.KS', '066570.KS', '003550.KS', 'SKM', '352820.KS', '034730.KS', '079550.KS', '003670.KS', '377300.KS', '009155.KS', '086280.KS', '247540.KQ', '272210.KS', '003230.KS', '042700.KS', '000150.KS', '003495.KS', '047050.KS', '443060.KS', '047810.KS', '090430.KS', '000100.KS', '010950.KS', '021240.KS', '086520.KQ', '009830.KS', '241560.KS', '161390.KS', '251270.KS', '051905.KS', 'LPL', '006260.KS', '271560.KS', '036460.KS', '001040.KS', '036570.KS', '035250.KS', '058470.KQ', '383220.KS', '041510.KQ', '011780.KS', '008930.KS', '011170.KS', '462870.KS', '263750.KQ', '035900.KQ', '002380.KS', '004370.KS', '081660.KS', '282330.KS', '028670.KS', '004990.KS', '020560.KS', '014680.KS', '004170.KS', '122870.KQ', '336260.KS', '293490.KQ', '000080.KS', '073240.KS', '007310.KS', '137310.KS', '192080.KS']\n",
    "# 미국 주식 목록\n",
    "Name_US=['NVIDIA', 'Microsoft', 'Apple', 'Amazon', 'Alphabet (Google)', 'Meta Platforms (Facebook)', 'Broadcom', 'Berkshire Hathaway', 'Tesla', 'JPMorgan Chase', 'Walmart', 'Visa', 'Eli Lilly', 'Oracle', 'Netflix', 'Mastercard', 'Exxon Mobil', 'Costco', 'Procter & Gamble', 'Johnson & Johnson', 'Home Depot', 'Bank of America', 'AbbVie', 'Palantir', 'Coca-Cola', 'UnitedHealth', 'Philip Morris International', 'Cisco', 'T-Mobile US', 'Wells Fargo', 'IBM', 'General Electric', 'Salesforce', 'Chevron', 'Abbott Laboratories', 'Morgan Stanley', 'American Express', 'AMD', 'Walt Disney', 'Goldman Sachs', 'Intuit', 'ServiceNow', 'McDonald', 'AT&T', 'Merck', 'Texas Instruments', 'Uber', 'Intuitive Surgical', 'RTX', 'Blackstone Group', 'Caterpillar', 'Booking Holdings (Booking.com)', 'Pepsico', 'Verizon', 'QUALCOMM', 'BlackRock', 'Charles Schwab', 'Citigroup', 'Boeing', 'S&P Global', 'Thermo Fisher Scientific', 'Adobe', 'Amgen', 'Honeywell', 'Boston Scientific', 'Progressive', 'Applied Materials', 'Nextera Energy', 'Stryker Corporation', 'Danaher', 'Pfizer', 'Capital One', 'Union Pacific Corporation', 'GE Vernova', 'Deere & Company (John Deere)', 'TJX Companies', 'Gilead Sciences', 'Micron Technology', 'Palo Alto Networks', 'Comcast', 'Arista Networks', 'KKR & Co.', 'CrowdStrike', \"Lowe's Companies\", 'Lam Research', 'Automatic Data Processing', 'KLA', 'Analog Devices', 'Amphenol', 'ConocoPhillips', 'Vertex Pharmaceuticals', 'AppLovin', 'Strategy \\n (MicroStrategy)', 'Nike', 'Lockheed Martin', 'Starbucks', 'Marsh & McLennan Companies', 'Intercontinental Exchange', 'American Tower', 'DoorDash']\n",
    "Ticker_US=['NVDA', 'MSFT', 'AAPL', 'AMZN', 'GOOG', 'META', 'AVGO', 'BRK-B', 'TSLA', 'JPM', 'WMT', 'V', 'LLY', 'ORCL', 'NFLX', 'MA', 'XOM', 'COST', 'PG', 'JNJ', 'HD', 'BAC', 'ABBV', 'PLTR', 'KO', 'UNH', 'PM', 'CSCO', 'TMUS', 'WFC', 'IBM', 'GE', 'CRM', 'CVX', 'ABT', 'MS', 'AXP', 'AMD', 'DIS', 'GS', 'INTU', 'NOW', 'MCD', 'T', 'MRK', 'TXN', 'UBER', 'ISRG', 'RTX', 'BX', 'CAT', 'BKNG', 'PEP', 'VZ', 'QCOM', 'BLK', 'SCHW', 'C', 'BA', 'SPGI', 'TMO', 'ADBE', 'AMGN', 'HON', 'BSX', 'PGR', 'AMAT', 'NEE', 'SYK', 'DHR', 'PFE', 'COF', 'UNP', 'GEV', 'DE', 'TJX', 'GILD', 'MU', 'PANW', 'CMCSA', 'ANET', 'KKR', 'CRWD', 'LOW', 'LRCX', 'ADP', 'KLAC', 'ADI', 'APH', 'COP', 'VRTX', 'APP', 'MSTR', 'NKE', 'LMT', 'SBUX', 'MMC', 'ICE', 'AMT', 'DASH']\n"
   ]
  },
  {
   "cell_type": "markdown",
   "id": "67ad855e",
   "metadata": {},
   "source": [
    "한국, 미국기업 모두 같은 테이블에 저장할거다"
   ]
  },
  {
   "cell_type": "code",
   "execution_count": null,
   "id": "24c51813",
   "metadata": {},
   "outputs": [],
   "source": [
    "all_names = Name_KR + Name_US # 기업 명\n",
    "all_tickers = Ticker_KR + Ticker_US # 티커 명"
   ]
  },
  {
   "cell_type": "code",
   "execution_count": null,
   "id": "0935f848",
   "metadata": {},
   "outputs": [],
   "source": [
    "company_summaries = [] # 최종 결과 저장\n",
    "\n",
    "for name, ticker in zip(all_names, all_tickers):\n",
    "    stock = yf.Ticker(ticker) # 티커 기준으로 불러오기\n",
    "    summary = stock.info.get('longBusinessSummary', pd.NA) # 기업 설명 가져오기\n",
    "    company_summaries.append({ #각각의 결과를 추가\n",
    "        'Name': name,\n",
    "        'Ticker': ticker,\n",
    "        'Summary': summary\n",
    "    })"
   ]
  },
  {
   "cell_type": "code",
   "execution_count": 10,
   "id": "9b27ef72",
   "metadata": {},
   "outputs": [],
   "source": [
    "results_df = pd.DataFrame(company_summaries)"
   ]
  },
  {
   "cell_type": "code",
   "execution_count": 11,
   "id": "33790503",
   "metadata": {},
   "outputs": [
    {
     "data": {
      "text/html": [
       "<div>\n",
       "<style scoped>\n",
       "    .dataframe tbody tr th:only-of-type {\n",
       "        vertical-align: middle;\n",
       "    }\n",
       "\n",
       "    .dataframe tbody tr th {\n",
       "        vertical-align: top;\n",
       "    }\n",
       "\n",
       "    .dataframe thead th {\n",
       "        text-align: right;\n",
       "    }\n",
       "</style>\n",
       "<table border=\"1\" class=\"dataframe\">\n",
       "  <thead>\n",
       "    <tr style=\"text-align: right;\">\n",
       "      <th></th>\n",
       "      <th>Name</th>\n",
       "      <th>Ticker</th>\n",
       "      <th>Summary</th>\n",
       "    </tr>\n",
       "  </thead>\n",
       "  <tbody>\n",
       "    <tr>\n",
       "      <th>0</th>\n",
       "      <td>Samsung</td>\n",
       "      <td>005930.KS</td>\n",
       "      <td>Samsung Electronics Co., Ltd. engages in the c...</td>\n",
       "    </tr>\n",
       "    <tr>\n",
       "      <th>1</th>\n",
       "      <td>SK Hynix</td>\n",
       "      <td>000660.KS</td>\n",
       "      <td>SK hynix Inc., together with its subsidiaries,...</td>\n",
       "    </tr>\n",
       "    <tr>\n",
       "      <th>2</th>\n",
       "      <td>Samsung Biologics</td>\n",
       "      <td>207940.KS</td>\n",
       "      <td>Samsung Biologics Co.,Ltd., together with its ...</td>\n",
       "    </tr>\n",
       "    <tr>\n",
       "      <th>3</th>\n",
       "      <td>LG Energy Solution</td>\n",
       "      <td>373220.KS</td>\n",
       "      <td>LG Energy Solution, Ltd. provides energy solut...</td>\n",
       "    </tr>\n",
       "    <tr>\n",
       "      <th>4</th>\n",
       "      <td>Hyundai</td>\n",
       "      <td>HYMTF</td>\n",
       "      <td>Hyundai Motor Company, together with its subsi...</td>\n",
       "    </tr>\n",
       "  </tbody>\n",
       "</table>\n",
       "</div>"
      ],
      "text/plain": [
       "                 Name     Ticker  \\\n",
       "0             Samsung  005930.KS   \n",
       "1            SK Hynix  000660.KS   \n",
       "2   Samsung Biologics  207940.KS   \n",
       "3  LG Energy Solution  373220.KS   \n",
       "4             Hyundai      HYMTF   \n",
       "\n",
       "                                             Summary  \n",
       "0  Samsung Electronics Co., Ltd. engages in the c...  \n",
       "1  SK hynix Inc., together with its subsidiaries,...  \n",
       "2  Samsung Biologics Co.,Ltd., together with its ...  \n",
       "3  LG Energy Solution, Ltd. provides energy solut...  \n",
       "4  Hyundai Motor Company, together with its subsi...  "
      ]
     },
     "execution_count": 11,
     "metadata": {},
     "output_type": "execute_result"
    }
   ],
   "source": [
    "results_df.head()"
   ]
  },
  {
   "cell_type": "code",
   "execution_count": 12,
   "id": "1b4ee0bf",
   "metadata": {},
   "outputs": [
    {
     "data": {
      "text/plain": [
       "Name       0\n",
       "Ticker     0\n",
       "Summary    1\n",
       "dtype: int64"
      ]
     },
     "execution_count": 12,
     "metadata": {},
     "output_type": "execute_result"
    }
   ],
   "source": [
    "results_df.isna().sum()"
   ]
  },
  {
   "cell_type": "markdown",
   "id": "ee27ca8b",
   "metadata": {},
   "source": [
    "# 임베딩"
   ]
  },
  {
   "cell_type": "code",
   "execution_count": null,
   "id": "85f0f500",
   "metadata": {},
   "outputs": [],
   "source": [
    "API_KEY = os.environ.get(\"GEMINI_API_KEY\") # Gemini API 키를 환경 변수에서 가져오기\n",
    "\n",
    "def get_summary_embedding(summary_text: str, client: genai.Client) -> list[float] | None:\n",
    "    \"\"\"\n",
    "    하나의 텍스트를 받아 임베딩 벡터를 반환하는 함수.\n",
    "    \"\"\"\n",
    "    # 내용이 비어있는지 확인\n",
    "    if not summary_text or pd.isna(summary_text):\n",
    "        return None\n",
    "    \n",
    "    try:\n",
    "        # API 호출\n",
    "        result = client.models.embed_content(\n",
    "            model=\"models/text-embedding-004\", # 사용하는 임베딩  모델명\n",
    "            contents=summary_text, # 임베딩할 내용\n",
    "            config=types.EmbedContentConfig(task_type=\"RETRIEVAL_DOCUMENT\") # 임베딩 타입 # 검색용 문서 임베딩\n",
    "        )\n",
    "        # 결과 객체에서 벡터를 직접 반환\n",
    "        vectors = [obj.values for obj in result.embeddings]\n",
    "        vectors=vectors[0]\n",
    "\n",
    "        return vectors\n",
    "    \n",
    "    except Exception as e:\n",
    "        print(f\"API Error embedding '{summary_text[:50]}...': {e}\")\n",
    "        return None\n",
    "\n",
    "\n",
    "# API 실행\n",
    "if __name__ == \"__main__\":\n",
    "    # genai.Client 객체 생성\n",
    "    client = genai.Client(api_key=API_KEY)\n",
    "    # 결과 데이터프레임에 저장\n",
    "    results_df['embedding'] = results_df['Summary'].apply(lambda text: get_summary_embedding(text, client))"
   ]
  },
  {
   "cell_type": "code",
   "execution_count": 25,
   "id": "6ff55fe8",
   "metadata": {},
   "outputs": [
    {
     "data": {
      "text/plain": [
       "Name         0\n",
       "Ticker       0\n",
       "Summary      0\n",
       "embedding    0\n",
       "dtype: int64"
      ]
     },
     "execution_count": 25,
     "metadata": {},
     "output_type": "execute_result"
    }
   ],
   "source": [
    "results_df.isna().sum()"
   ]
  },
  {
   "cell_type": "markdown",
   "id": "941ddb29",
   "metadata": {},
   "source": [
    "# 업로드"
   ]
  },
  {
   "cell_type": "code",
   "execution_count": 26,
   "id": "719c90fa",
   "metadata": {},
   "outputs": [],
   "source": [
    "results_df.rename(columns={\n",
    "    'Name': 'company_name',\n",
    "    'Ticker': 'ticker',\n",
    "    'Summary': 'summary',\n",
    "    \"embedding\": \"summary_embedding\",\n",
    "}, inplace=True)\n",
    "results=results_df[['company_name', 'ticker', 'summary', 'summary_embedding']].copy()"
   ]
  },
  {
   "cell_type": "code",
   "execution_count": 27,
   "id": "2cf8b30f",
   "metadata": {},
   "outputs": [],
   "source": [
    "data_to_upload = results.to_dict('records')"
   ]
  },
  {
   "cell_type": "markdown",
   "id": "69409c6b",
   "metadata": {},
   "source": [
    "supabase의 company_summary 테이블에 전체 업로드"
   ]
  },
  {
   "cell_type": "code",
   "execution_count": 28,
   "id": "248a220d",
   "metadata": {},
   "outputs": [],
   "source": [
    "data, count = supabase.table(\"company_summary\").insert(data_to_upload).execute()"
   ]
  }
 ],
 "metadata": {
  "kernelspec": {
   "display_name": "base",
   "language": "python",
   "name": "python3"
  },
  "language_info": {
   "codemirror_mode": {
    "name": "ipython",
    "version": 3
   },
   "file_extension": ".py",
   "mimetype": "text/x-python",
   "name": "python",
   "nbconvert_exporter": "python",
   "pygments_lexer": "ipython3",
   "version": "3.12.7"
  }
 },
 "nbformat": 4,
 "nbformat_minor": 5
}
