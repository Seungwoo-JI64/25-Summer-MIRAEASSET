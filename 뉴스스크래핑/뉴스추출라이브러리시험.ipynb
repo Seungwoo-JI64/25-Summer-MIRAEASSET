{
 "cells": [
  {
   "cell_type": "code",
   "execution_count": 9,
   "id": "4395fa90",
   "metadata": {},
   "outputs": [],
   "source": [
    "# pip install newspaper3k\n",
    "# !pip install lxml[html_clean]"
   ]
  },
  {
   "cell_type": "code",
   "execution_count": 4,
   "id": "e25de17a",
   "metadata": {},
   "outputs": [
    {
     "name": "stdout",
     "output_type": "stream",
     "text": [
      "기사 제목 :\n",
      "Asian shares are mixed as Trump's tariffs deadline looms\n",
      "\n",
      "기사 내용 :\n",
      "MANILA, Philippines (AP) — Asian shares were trading mixed on Wednesday as the July 9 deadline for the U.S. to strike deals with trading partners or impose higher tariffs looms.\n",
      "\n",
      "U.S. futures edged higher and oil prices were little changed.\n",
      "\n",
      "Shares fell in Japan, hit by jitters over a lack of progress in trade talks with the U.S., but they recovered much of their lost ground, trading 0.5% lower at 39,790.85.\n",
      "\n",
      "Stephen Innes, managing partner at SPI Asset Management, pointed to President Donald Trump’s declaration that there will be no extension of his tariff pause, which is just a week away from ending.\n",
      "\n",
      "“The message was blunt: if Tokyo won’t yield, it will pay. Tariffs of 30%, 35% or ‘whatever number we determine’ are now openly back on the table,” he said. “The negotiating table just became a pressure cooker.”\n",
      "\n",
      "Hong Kong's Hang Seng advanced 0.8% to 24,271.15 and the Shanghai Composite index edged 0.1% lower to 3,453.89.\n",
      "\n",
      "South Korea’s KOSPI fell 0.6% to 3,072.63 after the government reported that inflation rose in June.\n",
      "\n",
      "Australia’s S&P ASX 200 climbed 0.8% to 8,605.40. Taiwan's Taiex edged up 0.1% while the Sensex in India lost 0.2%.\n",
      "\n",
      "On Tuesday, the S&P 500 dipped 0.1% to 6,198.01 for its first loss in four days. The Dow Jones Industrial Average rose 0.9% to 44,494.94, and the Nasdaq composite fell 0.8% to 20,202.89.\n",
      "\n",
      "Tesla tugged on the market as the relationship between its CEO, Elon Musk, and President Donald Trump soured even further. Once allies, the two have clashed recently, and Trump suggested there’s potentially “BIG MONEY TO BE SAVED” by scrutinizing subsidies, contracts or other government spending going to Musk’s companies.\n",
      "\n",
      "Tesla fell 5.3%. It has lost just over a quarter of its value so far this year, 25.5%, in large part because of Musk’s and Trump’s feud.\n",
      "\n",
      "Drops for several darlings of the artificial-intelligence frenzy also weighed on the market. Nvidia’s decline of 3% was the heaviest weight on the S&P 500.\n",
      "\n",
      "But more stocks within the index rose than fell, led by several casino companies. They rallied following a report showing better-than-expected growth in overall gaming revenue in Macao, China’s casino hub. Las Vegas Sands gained 8.9%, Wynn Resorts climbed 8.8% and MGM Resorts International rose 7.3%.\n",
      "\n",
      "Automakers outside of Tesla were also strong, with General Motors up 5.7% and Ford Motor up 4.6%.\n",
      "\n",
      "The U.S. stock market has made a stunning recovery from its springtime sell-off of roughly 20%. But challenges still lie ahead for Wall Street, with one of the largest being the continued threat of Trump’s tariffs.\n"
     ]
    }
   ],
   "source": [
    "from newspaper import Article\n",
    "\n",
    "# 파싱할 뉴스 기사 주소\n",
    "url = 'https://finance.yahoo.com/news/asian-shares-mixed-tracking-wall-044310880.html'\n",
    "\n",
    "article = Article(url, language='en')\n",
    "article.download()\n",
    "article.parse()\n",
    "\n",
    "# 기사 제목 출력\n",
    "print('기사 제목 :')\n",
    "print(article.title)\n",
    "\n",
    "# 기사 내용 출력\n",
    "print('\\n기사 내용 :')\n",
    "print(article.text)"
   ]
  }
 ],
 "metadata": {
  "kernelspec": {
   "display_name": "base",
   "language": "python",
   "name": "python3"
  },
  "language_info": {
   "codemirror_mode": {
    "name": "ipython",
    "version": 3
   },
   "file_extension": ".py",
   "mimetype": "text/x-python",
   "name": "python",
   "nbconvert_exporter": "python",
   "pygments_lexer": "ipython3",
   "version": "3.12.7"
  }
 },
 "nbformat": 4,
 "nbformat_minor": 5
}
