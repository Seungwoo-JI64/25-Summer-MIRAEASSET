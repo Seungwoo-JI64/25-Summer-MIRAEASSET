{
 "cells": [
  {
   "cell_type": "code",
   "execution_count": 9,
   "id": "4395fa90",
   "metadata": {},
   "outputs": [],
   "source": [
    "# pip install newspaper3k\n",
    "# !pip install lxml[html_clean]"
   ]
  },
  {
   "cell_type": "code",
   "execution_count": 14,
   "id": "e25de17a",
   "metadata": {},
   "outputs": [
    {
     "name": "stdout",
     "output_type": "stream",
     "text": [
      "기사 내용 :\n",
      "BENJAMIN CREMEL / AFP\n",
      "\n",
      "Simply saying Tesla stock is down 21% this year doesn't do justice to the wild ride it's been on.\n",
      "\n",
      "Shares were up 28% in February before rebounding 23% in May.\n",
      "\n",
      "Tariffs, slowing vehicle sales, and Musk's political dealings have been primarily responsible for the volatility.\n",
      "\n",
      "2025 has been wild for Tesla shareholders, and it's only halfway over.\n",
      "\n",
      "The EV-maker's stock has been on a roller-coaster ride, with shares dragged sharply lower on multiple occasions by tariffs, slumping car sales, and CEO Elon Musk's involvement with politics.\n",
      "\n",
      "There have also been bright spots, like Tesla's recent stock spike the day it officially launched its long-awaited robotaxi service.\n",
      "\n",
      "But it's been anything but a straight path in either direction. A tumultuous February bled into March, with shares falling nearly 50% from highs, then rallying 30% in a matter of weeks. The stock then chopped around for a while before surging 23% in May. June has been a different story, down 6%. The net result? A 21% decline.\n",
      "\n",
      "Feeling whipsawed yet? That's normal for anyone trying to follow Tesla's relentless gyrations. Especially those shareholders who enjoyed a torrid post-election rally, and returns of more than 200% across 2023 and 2024.\n",
      "\n",
      "Despite all the noise around Tesla, its year-to-date stock performance boils down to three main developments that have dictated price action and sentiment. These are detailed below.\n",
      "\n",
      "1. Elon Musk links up with Donald Trump\n",
      "\n",
      "Trump and Musk sat together during the UFC fight. Chris Unger/Zuffa LLC\n",
      "\n",
      "The sharp declines and volatility in Tesla stock began when Musk — who backed President Donald Trump on the campaign trail — became more entangled in politics. The inflection point came as the Tesla CEO took up a role as a \"special government employee\" shortly after Trump's inauguration on Jan. 20.\n",
      "\n",
      "This spread fresh concern among investors that his time with the administration was distracting from his duties leading his companies, and shares dropped 37% between the inauguration and the end of March.\n",
      "\n",
      "Shares dropped another 9% in the first week of April, but ended the month 9% higher amid a broader market rebound and Musk's announcement that he would step back from the Department of Government Efficiency.\n",
      "\n",
      "Musk's involvement in DOGE and his cost-cutting spree across the federal government was also seen as impacting Tesla's brand, Wall Street analysts said, pointing to protests, Tesla boycotts, Cybertruck vandalism, and calls from investors for Elon Musk to step down as CEO.\n",
      "\n",
      "In a note in April, analysts at Wedbush Securities pointed to Musk's involvement in the White House and called a \"code red\" situation for the company.\n"
     ]
    }
   ],
   "source": [
    "from newspaper import Article\n",
    "\n",
    "# 파싱할 뉴스 기사 주소\n",
    "url = 'https://finance.yahoo.com/news/3-defining-moments-behind-tesla-144100607.html'\n",
    "\n",
    "article = Article(url, language='en')\n",
    "article.download()\n",
    "article.parse()\n",
    "\n",
    "# 기사 내용 출력\n",
    "print('기사 내용 :')\n",
    "print(article.text)"
   ]
  }
 ],
 "metadata": {
  "kernelspec": {
   "display_name": "base",
   "language": "python",
   "name": "python3"
  },
  "language_info": {
   "codemirror_mode": {
    "name": "ipython",
    "version": 3
   },
   "file_extension": ".py",
   "mimetype": "text/x-python",
   "name": "python",
   "nbconvert_exporter": "python",
   "pygments_lexer": "ipython3",
   "version": "3.12.7"
  }
 },
 "nbformat": 4,
 "nbformat_minor": 5
}
