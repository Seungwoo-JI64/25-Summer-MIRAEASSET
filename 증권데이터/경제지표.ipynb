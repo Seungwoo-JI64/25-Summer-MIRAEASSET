{
 "cells": [
  {
   "cell_type": "markdown",
   "id": "9664e100",
   "metadata": {},
   "source": [
    "경제지표 지수"
   ]
  },
  {
   "cell_type": "markdown",
   "id": "2b153ea8",
   "metadata": {},
   "source": [
    "소비자물가지수, 생산자물가지수가 있으며 2달 간 데이터입니다. 둘다 fred api로 했습니다"
   ]
  },
  {
   "cell_type": "markdown",
   "id": "90bb6889",
   "metadata": {},
   "source": [
    "1. 소비자물가지수(CPI)"
   ]
  },
  {
   "cell_type": "code",
   "execution_count": 2,
   "id": "e775415d",
   "metadata": {},
   "outputs": [
    {
     "name": "stderr",
     "output_type": "stream",
     "text": [
      "������ ������ ã�� �� �����ϴ�.\n"
     ]
    }
   ],
   "source": [
    "! pip install numpy<2 #아래 코드 오류가 나면 이 코드 돌려주세요."
   ]
  },
  {
   "cell_type": "code",
   "execution_count": 8,
   "id": "ff4dad62",
   "metadata": {},
   "outputs": [
    {
     "data": {
      "text/html": [
       "<div>\n",
       "<style scoped>\n",
       "    .dataframe tbody tr th:only-of-type {\n",
       "        vertical-align: middle;\n",
       "    }\n",
       "\n",
       "    .dataframe tbody tr th {\n",
       "        vertical-align: top;\n",
       "    }\n",
       "\n",
       "    .dataframe thead th {\n",
       "        text-align: right;\n",
       "    }\n",
       "</style>\n",
       "<table border=\"1\" class=\"dataframe\">\n",
       "  <thead>\n",
       "    <tr style=\"text-align: right;\">\n",
       "      <th></th>\n",
       "      <th>날짜</th>\n",
       "      <th>CPI</th>\n",
       "    </tr>\n",
       "  </thead>\n",
       "  <tbody>\n",
       "    <tr>\n",
       "      <th>0</th>\n",
       "      <td>2025-05-01</td>\n",
       "      <td>321.465</td>\n",
       "    </tr>\n",
       "  </tbody>\n",
       "</table>\n",
       "</div>"
      ],
      "text/plain": [
       "          날짜      CPI\n",
       "0 2025-05-01  321.465"
      ]
     },
     "execution_count": 8,
     "metadata": {},
     "output_type": "execute_result"
    }
   ],
   "source": [
    "from fredapi import Fred\n",
    "import pandas as pd\n",
    "from datetime import datetime, timedelta\n",
    "\n",
    "# FRED API 키 입력\n",
    "fred = Fred(api_key='6091f9de7a869ea03c162ff55ae0763c')  # ← 여기 본인 키 넣기\n",
    "\n",
    "# 오늘 기준 60일 전 날짜 계산\n",
    "start_date = (datetime.today() - timedelta(days=60)).strftime('%Y-%m-%d')\n",
    "\n",
    "# CPI 시리즈 ID: CPIAUCNS\n",
    "cpi = fred.get_series('CPIAUCNS', observation_start=start_date).reset_index()\n",
    "cpi.columns = ['날짜', 'CPI']\n",
    "\n",
    "# 날짜 타입 변환\n",
    "cpi['날짜'] = pd.to_datetime(cpi['날짜'])\n",
    "cpi\n"
   ]
  },
  {
   "cell_type": "markdown",
   "id": "44bb7ad2",
   "metadata": {},
   "source": [
    "-> 6월 지표는 7월 중순에 발표해서 아직 없습니다."
   ]
  },
  {
   "cell_type": "markdown",
   "id": "2326dc29",
   "metadata": {},
   "source": [
    "2. 생산자물가지수(PPI)"
   ]
  },
  {
   "cell_type": "code",
   "execution_count": 10,
   "id": "09c62bea",
   "metadata": {},
   "outputs": [
    {
     "data": {
      "text/html": [
       "<div>\n",
       "<style scoped>\n",
       "    .dataframe tbody tr th:only-of-type {\n",
       "        vertical-align: middle;\n",
       "    }\n",
       "\n",
       "    .dataframe tbody tr th {\n",
       "        vertical-align: top;\n",
       "    }\n",
       "\n",
       "    .dataframe thead th {\n",
       "        text-align: right;\n",
       "    }\n",
       "</style>\n",
       "<table border=\"1\" class=\"dataframe\">\n",
       "  <thead>\n",
       "    <tr style=\"text-align: right;\">\n",
       "      <th></th>\n",
       "      <th>날짜</th>\n",
       "      <th>PPI</th>\n",
       "    </tr>\n",
       "  </thead>\n",
       "  <tbody>\n",
       "    <tr>\n",
       "      <th>0</th>\n",
       "      <td>2025-05-01</td>\n",
       "      <td>259.033</td>\n",
       "    </tr>\n",
       "  </tbody>\n",
       "</table>\n",
       "</div>"
      ],
      "text/plain": [
       "          날짜      PPI\n",
       "0 2025-05-01  259.033"
      ]
     },
     "execution_count": 10,
     "metadata": {},
     "output_type": "execute_result"
    }
   ],
   "source": [
    "from fredapi import Fred\n",
    "import pandas as pd\n",
    "from datetime import datetime, timedelta\n",
    "\n",
    "# FRED API 키 입력\n",
    "fred = Fred(api_key='6091f9de7a869ea03c162ff55ae0763c')  # ← 본인 키 입력\n",
    "\n",
    "# 오늘 기준 60일 전부터 시작\n",
    "start_date = (datetime.today() - timedelta(days=60)).strftime('%Y-%m-%d')\n",
    "\n",
    "# PPI 데이터 받아오기 (시리즈 ID: PPIACO)\n",
    "ppi = fred.get_series('PPIACO', observation_start=start_date).reset_index()\n",
    "ppi.columns = ['날짜', 'PPI']\n",
    "\n",
    "# 날짜 타입 변환\n",
    "ppi['날짜'] = pd.to_datetime(ppi['날짜'])\n",
    "ppi\n"
   ]
  },
  {
   "cell_type": "markdown",
   "id": "260dbd6a",
   "metadata": {},
   "source": [
    "-> 6월 지표는 7월 중순에 발표해서 아직 없습니다."
   ]
  },
  {
   "cell_type": "markdown",
   "id": "9bf91902",
   "metadata": {},
   "source": []
  }
 ],
 "metadata": {
  "kernelspec": {
   "display_name": "base",
   "language": "python",
   "name": "python3"
  },
  "language_info": {
   "codemirror_mode": {
    "name": "ipython",
    "version": 3
   },
   "file_extension": ".py",
   "mimetype": "text/x-python",
   "name": "python",
   "nbconvert_exporter": "python",
   "pygments_lexer": "ipython3",
   "version": "3.11.5"
  }
 },
 "nbformat": 4,
 "nbformat_minor": 5
}
