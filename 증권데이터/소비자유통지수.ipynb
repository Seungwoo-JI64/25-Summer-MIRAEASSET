{
 "cells": [
  {
   "cell_type": "markdown",
   "id": "e7ed11b1",
   "metadata": {},
   "source": [
    "소비자 유통지수"
   ]
  },
  {
   "cell_type": "markdown",
   "id": "384525d1",
   "metadata": {},
   "source": [
    "소비자 유통지수이고 미국 소매 판매(retail sales), 소비자 신뢰지수(CCI)가 있습니다."
   ]
  },
  {
   "cell_type": "markdown",
   "id": "f1b07e9f",
   "metadata": {},
   "source": [
    "1. 미국 소매 판매(retail sales)"
   ]
  },
  {
   "cell_type": "code",
   "execution_count": 12,
   "id": "5aa8e8fd",
   "metadata": {},
   "outputs": [
    {
     "data": {
      "text/html": [
       "<div>\n",
       "<style scoped>\n",
       "    .dataframe tbody tr th:only-of-type {\n",
       "        vertical-align: middle;\n",
       "    }\n",
       "\n",
       "    .dataframe tbody tr th {\n",
       "        vertical-align: top;\n",
       "    }\n",
       "\n",
       "    .dataframe thead th {\n",
       "        text-align: right;\n",
       "    }\n",
       "</style>\n",
       "<table border=\"1\" class=\"dataframe\">\n",
       "  <thead>\n",
       "    <tr style=\"text-align: right;\">\n",
       "      <th></th>\n",
       "      <th>날짜</th>\n",
       "      <th>수치($)</th>\n",
       "    </tr>\n",
       "  </thead>\n",
       "  <tbody>\n",
       "    <tr>\n",
       "      <th>0</th>\n",
       "      <td>2025-05-01</td>\n",
       "      <td>715417.0</td>\n",
       "    </tr>\n",
       "  </tbody>\n",
       "</table>\n",
       "</div>"
      ],
      "text/plain": [
       "          날짜     수치($)\n",
       "0 2025-05-01  715417.0"
      ]
     },
     "execution_count": 12,
     "metadata": {},
     "output_type": "execute_result"
    }
   ],
   "source": [
    "from fredapi import Fred\n",
    "import datetime\n",
    "import pandas as pd\n",
    "\n",
    "fred = Fred(api_key='6091f9de7a869ea03c162ff55ae0763c')\n",
    "\n",
    "end_date = datetime.datetime.today()\n",
    "start_date = end_date - datetime.timedelta(days=60)\n",
    "\n",
    "data = fred.get_series('RSAFS', observation_start=start_date, observation_end=end_date)\n",
    "\n",
    "retailsales = data.reset_index()\n",
    "retailsales.columns = ['날짜', '수치($)']\n",
    "\n",
    "retailsales"
   ]
  },
  {
   "cell_type": "markdown",
   "id": "e92e526b",
   "metadata": {},
   "source": [
    "-> 6월거는 7월 중순에 발표해서 없습니다"
   ]
  },
  {
   "cell_type": "markdown",
   "id": "db444ed8",
   "metadata": {},
   "source": [
    "2. 소비자 신뢰지수(CCI)"
   ]
  },
  {
   "cell_type": "code",
   "execution_count": 16,
   "id": "262c4846",
   "metadata": {},
   "outputs": [
    {
     "data": {
      "text/html": [
       "<div>\n",
       "<style scoped>\n",
       "    .dataframe tbody tr th:only-of-type {\n",
       "        vertical-align: middle;\n",
       "    }\n",
       "\n",
       "    .dataframe tbody tr th {\n",
       "        vertical-align: top;\n",
       "    }\n",
       "\n",
       "    .dataframe thead th {\n",
       "        text-align: right;\n",
       "    }\n",
       "</style>\n",
       "<table border=\"1\" class=\"dataframe\">\n",
       "  <thead>\n",
       "    <tr style=\"text-align: right;\">\n",
       "      <th></th>\n",
       "      <th>날짜</th>\n",
       "      <th>지수</th>\n",
       "    </tr>\n",
       "  </thead>\n",
       "  <tbody>\n",
       "    <tr>\n",
       "      <th>0</th>\n",
       "      <td>2025-05-01</td>\n",
       "      <td>52.2</td>\n",
       "    </tr>\n",
       "  </tbody>\n",
       "</table>\n",
       "</div>"
      ],
      "text/plain": [
       "          날짜    지수\n",
       "0 2025-05-01  52.2"
      ]
     },
     "execution_count": 16,
     "metadata": {},
     "output_type": "execute_result"
    }
   ],
   "source": [
    "from fredapi import Fred\n",
    "import datetime\n",
    "import pandas as pd\n",
    "\n",
    "fred = Fred(api_key='6091f9de7a869ea03c162ff55ae0763c')\n",
    "end_date = datetime.datetime.today()\n",
    "start_date = end_date - datetime.timedelta(days=60)\n",
    "\n",
    "# CCI 시리즈 ID (Conference Board Consumer Confidence Index)\n",
    "series_id = 'UMCSENT'  # 참고: 정확한 시리즈 확인 필요\n",
    "\n",
    "cci_data = fred.get_series(series_id, observation_start=start_date, observation_end=end_date)\n",
    "\n",
    "cci_df = cci_data.reset_index()\n",
    "cci_df.columns = ['날짜', '지수']\n",
    "\n",
    "cci=cci_df\n",
    "cci=pd.DataFrame(cci)\n",
    "cci"
   ]
  },
  {
   "cell_type": "markdown",
   "id": "921e97f5",
   "metadata": {},
   "source": [
    "-> 얘도 6월은 아직 발표 안했습니다."
   ]
  },
  {
   "cell_type": "markdown",
   "id": "63b589d3",
   "metadata": {},
   "source": []
  }
 ],
 "metadata": {
  "kernelspec": {
   "display_name": "base",
   "language": "python",
   "name": "python3"
  },
  "language_info": {
   "codemirror_mode": {
    "name": "ipython",
    "version": 3
   },
   "file_extension": ".py",
   "mimetype": "text/x-python",
   "name": "python",
   "nbconvert_exporter": "python",
   "pygments_lexer": "ipython3",
   "version": "3.11.5"
  }
 },
 "nbformat": 4,
 "nbformat_minor": 5
}
