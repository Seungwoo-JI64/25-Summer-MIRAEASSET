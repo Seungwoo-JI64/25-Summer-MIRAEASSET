{
 "cells": [
  {
   "cell_type": "code",
   "execution_count": 1,
   "id": "5de5b6cc",
   "metadata": {},
   "outputs": [],
   "source": [
    "import yfinance as yf\n",
    "import pandas as pd\n",
    "import os\n",
    "from datetime import datetime\n",
    "from supabase import create_client, Client\n",
    "from dotenv import load_dotenv"
   ]
  },
  {
   "cell_type": "markdown",
   "id": "394c6bca",
   "metadata": {},
   "source": [
    "# 1. 야후 API"
   ]
  },
  {
   "cell_type": "code",
   "execution_count": null,
   "id": "56ed7559",
   "metadata": {},
   "outputs": [],
   "source": [
    "# 추출할 주요 지표들\n",
    "# values : 티커, en : 티커, ko : 한국어 명칭\n",
    "tickers_info = {\n",
    "    '^GSPC': {'en': '^GSPC', 'ko': 'S&P 500 지수'},\n",
    "    '^NDX': {'en': '^NDX', 'ko': '나스닥 100 지수'},\n",
    "    '^DJI': {'en': '^DJI', 'ko': '다우존스 산업평균지수'},\n",
    "    '^KS11': {'en': '^KS11', 'ko': '코스피 지수'},\n",
    "    '^KQ11': {'en': '^KQ11', 'ko': '코스닥 지수'},\n",
    "    'LIT': {'en': 'LIT', 'ko': '리튬 ETF'},\n",
    "    '^TNX': {'en': 'TNX', 'ko': '미국 10년물 국채 수익률'},\n",
    "    'NBI': {'en': 'NBI', 'ko': '나스닥 바이오테크놀로지 지수'},\n",
    "    '^VIX': {'en': '^VIX', 'ko': 'CBOE 변동성 지수'},\n",
    "    'CL=F': {'en': 'CL=F', 'ko': 'WTI 원유 선물'},\n",
    "    'FDN': {'en': 'FDN', 'ko': '다우존스 인터넷 지수'},\n",
    "    'USDKRW=X': {'en': 'USDKRW=X', 'ko': '달러/원 환율'}\n",
    "}\n",
    "\n",
    "start_date = '2023-07-11' #7월 11일부터 \n",
    "end_date = '2025-07-11' #현재 작업중인 7월 11일까지\n",
    "\n",
    "# 모든 Ticker 한번에 불러오기\n",
    "tickers_list = list(tickers_info.keys())\n",
    "# API 호출\n",
    "data_wide = yf.download(tickers_list, start=start_date, end=end_date, auto_adjust=True, progress=False)\n",
    "# 종가(Close) 데이터만 추출\n",
    "close_prices = data_wide['Close']\n",
    "\n",
    "# 데이터 전처리\n",
    "final_df = close_prices.stack().reset_index()\n",
    "final_df.columns = ['date', 'index_en', 'value']\n",
    "ko_map = {key: val['ko'] for key, val in tickers_info.items()}\n",
    "final_df['index_ko'] = final_df['index_en'].map(ko_map)\n",
    "final_df.dropna(inplace=True)\n",
    "final_df = final_df[['index_en', 'index_ko', 'date', 'value']]\n",
    "final_df['date'] = final_df['date'].dt.strftime('%Y-%m-%dT%H:%M:%S')\n"
   ]
  },
  {
   "cell_type": "markdown",
   "id": "537eec90",
   "metadata": {},
   "source": [
    "# 2. 업로드"
   ]
  },
  {
   "cell_type": "code",
   "execution_count": null,
   "id": "61d97e21",
   "metadata": {},
   "outputs": [],
   "source": [
    "# 환경 변수 사용\n",
    "# 상위 폴더의 .env 파일 경로를 지정하여 로드\n",
    "# 그러나 보안을 위해 업로드 하지 않음\n",
    "load_dotenv(dotenv_path='../.env')\n",
    "supabase_url = os.environ.get(\"SUPABASE_URL\")\n",
    "supabase_key = os.environ.get(\"SUPABASE_KEY\")\n",
    "supabase: Client = create_client(supabase_url, supabase_key)\n",
    "\n",
    "data_to_upload = final_df.to_dict('records') # 업로드 형식 변환\n",
    "# financial_indices 테이블에 데이터 업로드\n",
    "data, count = supabase.table(\"financial_indices\").insert(data_to_upload).execute()"
   ]
  }
 ],
 "metadata": {
  "kernelspec": {
   "display_name": "base",
   "language": "python",
   "name": "python3"
  },
  "language_info": {
   "codemirror_mode": {
    "name": "ipython",
    "version": 3
   },
   "file_extension": ".py",
   "mimetype": "text/x-python",
   "name": "python",
   "nbconvert_exporter": "python",
   "pygments_lexer": "ipython3",
   "version": "3.12.7"
  }
 },
 "nbformat": 4,
 "nbformat_minor": 5
}
