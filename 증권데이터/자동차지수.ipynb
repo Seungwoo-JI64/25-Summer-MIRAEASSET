{
 "cells": [
  {
   "cell_type": "markdown",
   "id": "846fd2f8",
   "metadata": {},
   "source": [
    "자동차지수"
   ]
  },
  {
   "cell_type": "markdown",
   "id": "29297568",
   "metadata": {},
   "source": [
    "미국,중국,유럽 신차 판매량 지수입니다."
   ]
  },
  {
   "cell_type": "code",
   "execution_count": null,
   "id": "af3fc753",
   "metadata": {},
   "outputs": [],
   "source": [
    "!pip install --upgrade --force-reinstall numpy\n",
    "!pip install --upgrade --force-reinstall yfinanc \n",
    "! pip install numpy<2\n",
    "!pip install numpy==1.24.4\n",
    " #아래 코드 오류가 나면 이 코드 돌려주세요.."
   ]
  },
  {
   "cell_type": "markdown",
   "id": "a30b7457",
   "metadata": {},
   "source": [
    "https://fred.stlouisfed.org/series/TOTALSA<br>\n",
    "이 사이트에 관련 수치가 나오기는 하는데 크롤링하기 좀 어렵습니다.."
   ]
  },
  {
   "cell_type": "code",
   "execution_count": null,
   "id": "65417212",
   "metadata": {},
   "outputs": [],
   "source": []
  }
 ],
 "metadata": {
  "kernelspec": {
   "display_name": "base",
   "language": "python",
   "name": "python3"
  },
  "language_info": {
   "codemirror_mode": {
    "name": "ipython",
    "version": 3
   },
   "file_extension": ".py",
   "mimetype": "text/x-python",
   "name": "python",
   "nbconvert_exporter": "python",
   "pygments_lexer": "ipython3",
   "version": "3.11.5"
  }
 },
 "nbformat": 4,
 "nbformat_minor": 5
}
